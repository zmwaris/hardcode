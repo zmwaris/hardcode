{
 "cells": [
  {
   "cell_type": "markdown",
   "id": "e7f6e65d-3cfc-43ed-91b5-bcbfb3d2facc",
   "metadata": {},
   "source": [
    "# Before jumping into Python let us have a walkthrough of what a computer program is and how a computer program works."
   ]
  },
  {
   "cell_type": "markdown",
   "id": "3c4be08f-1589-422a-adff-57ef3f46a2df",
   "metadata": {},
   "source": [
    "## 1. What is a computer program?"
   ]
  },
  {
   "cell_type": "markdown",
   "id": "060eeae0-4813-49bd-8982-d04d1ad91a2f",
   "metadata": {},
   "source": [
    "A computer program had many definitions over evolving technology and ever growing insights of human. But I would try to make it the closest to the best possible definition.\n",
    "\n",
    "\n",
    "**Definition** - You might have heard people saying that everything a computer understands is 0's and 1's. So we could say that ***a computer program is a medium which allows us to converse with machines which uses the help of bits to process information and execute them***. Since the machines around us does not understand human language of any form, so in order to give and execute commands we have to give the command in a form which machines can understand i.e in the form of bits also known as 0's and 1's."
   ]
  },
  {
   "cell_type": "markdown",
   "id": "78970f2a-b1e3-4667-87a7-fa4aee9140de",
   "metadata": {},
   "source": [
    "### 1.1 What is a bit? Why is a bit represented in 0 or 1? Why a computer only understand bits?"
   ]
  },
  {
   "cell_type": "markdown",
   "id": "ab80e3be-1ce9-4e60-a082-8101befe92c4",
   "metadata": {},
   "source": [
    "A bit is the most basic unit of information in computing and digital communications. It is a blend of two words i.e **binary digits**. A bit represents a logical state with one of two possible values.The most commonly used value for repreentation of a bit is 0 or 1. In other words 0 or 1 is only a state of representation used for a bit. So a bit can also be represented in other ways such as ***true/false, yes/no, on/off, or +/−***.\n",
    "\n",
    "As we know, a computer is an electronic device which sends and receives information in the form of electrical signals. These electrical signals have only two state ***on/off***. So to process a command or display a result a computer have to convert the data into electrical signals and vice-versa. These electrical signals travel in the form of bits giving information to the core processing system of our machine and again converting back those electrical signals (bits) from processors to human readable form to display the results. "
   ]
  },
  {
   "cell_type": "markdown",
   "id": "13dd3146-765f-4992-8340-e4d8ef3507d5",
   "metadata": {},
   "source": [
    "### 1.2 How are we able to store vast amount of information in our computer system if it only understand bits?"
   ]
  },
  {
   "cell_type": "markdown",
   "id": "51d1f73e-3c9a-48bf-82e5-7eed02981892",
   "metadata": {},
   "source": [
    "The answer to this question is bytes. A byte is a unit of digital information that consists of eight bits. Since one bit can hold only two values of 0 or 1 i.e $2^1$ = 2 values, so with 8 bits or 1 byte we can store numbers between 0 and 255 i.e $2^8$ = 256 distinct values. So using this format we can say that for n-bits we can store $2^n$ values.\n",
    "\n",
    "In modern computers we have used 32-bit or 64-bit operating systems. This information simply means that our system is capable of performing operations on $2^{32}$ or $2^{64}$ number of values."
   ]
  },
  {
   "cell_type": "code",
   "execution_count": null,
   "id": "1036409d-215b-4c6d-805d-72a5363da0a0",
   "metadata": {},
   "outputs": [],
   "source": []
  }
 ],
 "metadata": {
  "kernelspec": {
   "display_name": "Python 3 (ipykernel)",
   "language": "python",
   "name": "python3"
  },
  "language_info": {
   "codemirror_mode": {
    "name": "ipython",
    "version": 3
   },
   "file_extension": ".py",
   "mimetype": "text/x-python",
   "name": "python",
   "nbconvert_exporter": "python",
   "pygments_lexer": "ipython3",
   "version": "3.11.1"
  }
 },
 "nbformat": 4,
 "nbformat_minor": 5
}
