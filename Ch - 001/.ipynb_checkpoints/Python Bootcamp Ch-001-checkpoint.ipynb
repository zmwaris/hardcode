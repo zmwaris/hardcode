{
 "cells": [
  {
   "cell_type": "markdown",
   "id": "e7f6e65d-3cfc-43ed-91b5-bcbfb3d2facc",
   "metadata": {},
   "source": [
    "# Before jumping into Python let us have a better understanding of what a computer program is and how a  computer program works."
   ]
  },
  {
   "cell_type": "markdown",
   "id": "3c4be08f-1589-422a-adff-57ef3f46a2df",
   "metadata": {},
   "source": [
    "## 1. What is a computer program?"
   ]
  },
  {
   "cell_type": "markdown",
   "id": "060eeae0-4813-49bd-8982-d04d1ad91a2f",
   "metadata": {},
   "source": []
  }
 ],
 "metadata": {
  "kernelspec": {
   "display_name": "Python 3 (ipykernel)",
   "language": "python",
   "name": "python3"
  },
  "language_info": {
   "codemirror_mode": {
    "name": "ipython",
    "version": 3
   },
   "file_extension": ".py",
   "mimetype": "text/x-python",
   "name": "python",
   "nbconvert_exporter": "python",
   "pygments_lexer": "ipython3",
   "version": "3.11.1"
  }
 },
 "nbformat": 4,
 "nbformat_minor": 5
}
